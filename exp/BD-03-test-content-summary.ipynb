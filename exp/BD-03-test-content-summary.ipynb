{
 "cells": [
  {
   "cell_type": "code",
   "execution_count": 1,
   "metadata": {},
   "outputs": [],
   "source": [
    "from src.components.content_sum.content import ContentSummarizationService\n",
    "from src.components.content_sum.content import ContentSummarizationInput"
   ]
  },
  {
   "cell_type": "code",
   "execution_count": 2,
   "metadata": {},
   "outputs": [],
   "source": [
    "from src.settings.settings import load_settings\n",
    "\n",
    "settings = load_settings()"
   ]
  },
  {
   "cell_type": "code",
   "execution_count": 3,
   "metadata": {},
   "outputs": [
    {
     "name": "stdout",
     "output_type": "stream",
     "text": [
      "Started parsing the file under job_id f5ad88c4-f602-4780-9647-086de291e235\n"
     ]
    },
    {
     "name": "stderr",
     "output_type": "stream",
     "text": [
      "100%|██████████| 1/1 [00:05<00:00,  5.91s/it]\n"
     ]
    }
   ],
   "source": [
    "sum_content = ContentSummarizationService(\n",
    "    openai_settings= settings.openai,\n",
    "    llamaparser_settings=settings.llamaparser\n",
    ")\n",
    "\n",
    "list_content = sum_content.process(\n",
    "    ContentSummarizationInput(\n",
    "        file_path=\"data/test_data.pdf\"\n",
    "    )\n",
    ")"
   ]
  },
  {
   "cell_type": "code",
   "execution_count": 4,
   "metadata": {},
   "outputs": [
    {
     "name": "stdout",
     "output_type": "stream",
     "text": [
      "### Key Points from \"MedVLM-R1: Incentivizing Medical Reasoning Capability of Vision-Language Models (VLMs) via Reinforcement Learning\"\n",
      "\n",
      "- **Objective**: Introduces **MedVLM-R1**, a medical Vision-Language Model (VLM) aimed at enhancing **transparency** and **trustworthiness** in medical image analysis by generating explicit natural language reasoning.\n",
      "\n",
      "- **Problem Addressed**: Existing VLMs typically provide final answers without revealing the reasoning process, which is crucial for clinician trust and regulatory approval.\n",
      "\n",
      "- **Methodology**: \n",
      "  - Utilizes **Reinforcement Learning** instead of **Supervised Fine-Tuning (SFT)** to encourage the model to develop human-interpretable reasoning paths.\n",
      "  - Operates without reasoning references, addressing overfitting issues common in SFT.\n",
      "\n",
      "- **Performance**:\n",
      "  - Achieved an accuracy increase from **55.11% to 78.22%** on MRI, CT, and X-ray benchmarks.\n",
      "  - Outperformed larger models trained on over **1 million samples** despite being trained on only **600 visual question answering samples**.\n",
      "\n",
      "- **Domain Generalization**: Demonstrates strong performance on out-of-distribution tasks, indicating robust adaptability.\n",
      "\n",
      "- **Significance**: MedVLM-R1 represents a significant advancement towards creating **trustworthy** and **interpretable AI** in clinical settings, merging medical image analysis with explicit reasoning capabilities.\n",
      "\n",
      "### Keywords\n",
      "- Medical reasoning\n",
      "- Reinforcement learning\n",
      "- Vision-Language Models (VLMs)\n"
     ]
    }
   ],
   "source": [
    "print(list_content.content_sum)"
   ]
  },
  {
   "cell_type": "code",
   "execution_count": null,
   "metadata": {},
   "outputs": [],
   "source": []
  }
 ],
 "metadata": {
  "kernelspec": {
   "display_name": "post-content-pilot",
   "language": "python",
   "name": "python3"
  },
  "language_info": {
   "codemirror_mode": {
    "name": "ipython",
    "version": 3
   },
   "file_extension": ".py",
   "mimetype": "text/x-python",
   "name": "python",
   "nbconvert_exporter": "python",
   "pygments_lexer": "ipython3",
   "version": "3.10.16"
  }
 },
 "nbformat": 4,
 "nbformat_minor": 2
}

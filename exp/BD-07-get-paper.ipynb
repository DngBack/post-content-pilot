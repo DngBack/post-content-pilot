{
 "cells": [
  {
   "cell_type": "code",
   "execution_count": 1,
   "metadata": {},
   "outputs": [
    {
     "name": "stdout",
     "output_type": "stream",
     "text": [
      "data/paper.pdf\n"
     ]
    }
   ],
   "source": [
    "from src.components.pull_content.paper import PaperService\n",
    "from src.components.pull_content.type import ContentType\n",
    "from src.components.pull_content.paper import PaperInput\n",
    "from src.settings.settings import load_settings\n",
    "\n",
    "settings = load_settings()\n",
    "\n",
    "paper_service = PaperService()\n",
    "\n",
    "paper_file = paper_service.process(\n",
    "    PaperInput(\n",
    "        paper_url=\"https://arxiv.org/pdf/2503.04625\",\n",
    "        type=ContentType.PAPER,\n",
    "        file_path=\"data/paper.pdf\"\n",
    "    )\n",
    ")\n",
    "print(paper_file.paper_file)"
   ]
  },
  {
   "cell_type": "code",
   "execution_count": null,
   "metadata": {},
   "outputs": [],
   "source": []
  }
 ],
 "metadata": {
  "kernelspec": {
   "display_name": "post-content-pilot",
   "language": "python",
   "name": "python3"
  },
  "language_info": {
   "codemirror_mode": {
    "name": "ipython",
    "version": 3
   },
   "file_extension": ".py",
   "mimetype": "text/x-python",
   "name": "python",
   "nbconvert_exporter": "python",
   "pygments_lexer": "ipython3",
   "version": "3.10.16"
  }
 },
 "nbformat": 4,
 "nbformat_minor": 2
}

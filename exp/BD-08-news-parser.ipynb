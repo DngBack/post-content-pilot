{
 "cells": [
  {
   "cell_type": "code",
   "execution_count": 2,
   "metadata": {},
   "outputs": [
    {
     "name": "stdout",
     "output_type": "stream",
     "text": [
      "\n",
      "#  Lực lượng Ukraine tại Kursk có nguy cơ bị bao vây hoàn toàn \n",
      "\n",
      "Nga dường như đạt đột phá, gần như cắt đôi khu vực Ukraine kiểm soát tại tỉnh Kursk và có khả năng bao vây hoàn toàn lực lượng đối phương.\n",
      "\n",
      "DeepState, nhóm phân tích thông tin tình báo có liên hệ với Bộ Quốc phòng Ukraine, hôm 7/3 công bố bản đồ cục diện chiến sự tại tỉnh Kursk, cho thấy lực lượng Nga đã chọc thủng phòng tuyến đối phương ở phía nam thị trấn Sudzha và đang tìm cách phong tỏa tuyến hậu cần cho khu vực.\n",
      "\n",
      "\"Đáng chú ý là Nga có lợi thế về thiết bị bay không người lái (drone), cả trinh sát lẫn tấn công. Loại phổ biến nhất là drone góc nhìn thứ nhất, chúng là vũ khí chủ đạo để tập kích mọi thứ di chuyển vào hoặc ra khỏi tỉnh Kursk\", nhóm DeepState cho hay.\n",
      "\n",
      "Cục diện chiến sự tại tỉnh Kursk của Nga trong bản đồ công bố ngày 7/3. Đồ họa: _DeepState_\n",
      "\n",
      "Tờ _Ukrainska Pravda_ dẫn nguồn tin giấu tên trong quân đội Ukraine thừa nhận mạng lưới phòng thủ tại khu vực đã bị phá vỡ và các đơn vị đang tìm cách ổn định tình hình. \"Chúng tôi đang cố kìm chân đối phương để tránh nguy cơ bị bao vây một phần hoặc hoàn toàn\", nguồn tin cho hay.\n",
      "\n",
      "Pasi Paroinen, chuyên gia thuộc nhóm nghiên cứu chiến sự Black Bird Group có trụ sở tại Phần Lan, nhận định tình hình của các đơn vị Ukraine ở tỉnh Kursk \"rất tồi tệ\". \"Không còn nhiều thời gian trước khi họ phải rút khỏi tỉnh Kursk hoặc bị bao vây\", Paroinen nói.\n",
      "\n",
      "Tuy nhiên, chuyên gia này cảnh báo rút lui khỏi Kursk cũng là thách thức lớn đối với lực lượng Ukraine, do nguy cơ bị drone và pháo binh Nga tập kích liên tục. \"Nếu Ukraine không thể kiểm soát tình thế, đây có thể là thời điểm mũi nhọn Kursk biến thành nồi hầm\", Paroinen đánh giá.\n",
      "\n",
      "Nga thường sử dụng thuật ngữ \"nồi hầm\" để chỉ những vòng vây lớn trên chiến trường, nơi họ sử dụng lực lượng lớn bao vây nhiều mặt, chỉ để lại một lối thoát cho đối phương.\n",
      "\n",
      "Tờ _NY Post_ của Mỹ hôm 7/3 dẫn lời một số binh sĩ Ukraine đang tham chiến tại tỉnh Kursk tiết lộ Kiev có thể từ bỏ chiến dịch và rút lui sau khoảng hai tuần nữa, do hạn chế đáng kể về không gian tác chiến.\n",
      "\n",
      "Trong bản tin cập nhật chiến sự ngày 7/3, Bộ Quốc phòng Nga tuyên bố đang \"tiếp tục vô hiệu hóa các đơn vị Ukraine tại tỉnh Kursk\", nhưng không nêu diễn biến cụ thể.\n",
      "\n",
      "Quân đội Ukraine từ chối bình luận về diễn biến ở mặt trận phía nam Sudzha.\n",
      "\n",
      "Andrii Kovalenko, giám đốc Trung tâm Chống thông tin sai lệch (CCD) thuộc Hội đồng An ninh và Quốc phòng Ukraine, thừa nhận quân đội Ukraine đang đối mặt các trận đánh khó khăn khi lực lượng Nga cố gắng đột phá và cắt tuyến hậu cần từ tỉnh Sumy đến Sudzha. \"Các đơn vị Ukraine đang tiếp tục chiến đấu và gây thương vong đáng kể cho Nga\", ông nói.\n",
      "\n",
      "Pháo phản lực BM-21 Nga tập kích vị trí Ukraine ở tỉnh Kursk ngày 4/3. Ảnh: _BQP Nga_\n",
      "\n",
      "Ukraine tháng 8/2024 tấn công tỉnh Kursk và mong muốn chiến dịch sẽ buộc Nga rút quân về bảo vệ tỉnh biên giới, ngăn bước tiến của đối phương ở mặt trận Donbass, gồm tỉnh Lugansk và Donetsk, cũng như tạo đòn bẩy cho chính quyền Tổng thống Zelensky tại những cuộc đàm phán trong tương lai.\n",
      "\n",
      "Tuy nhiên, tình hình không như Ukraine kỳ vọng. Sau thời gian đầu bị bất ngờ, quân đội Nga đã củng cố lực lượng và huy động hàng chục nghìn quân cho mặt trận Kursk, trong khi vẫn duy trì đà tiến ở Donbass. Quân đội Ukraine từng phát động một số đợt phản công lớn để phá vây và giảm áp lực cho các đơn vị ở Kursk trong hai tháng qua, nhưng không thành công.\n",
      "\n",
      "Tướng Sergey Rudskoy, lãnh đạo Cục Tác chiến thuộc Bộ Tổng tham mưu quân đội Nga, ngày 20/2 thông báo \"quân đội Nga đã giành lại hơn 800 km2 lãnh thổ ở Kursk từ tay Ukraine, tương đương 64% trong tổng số 1.268 km2 đối phương kiểm soát trong giai đoạn đầu chiến dịch\".\n",
      "\n",
      "**Nguyễn Tiến** (Theo _Reuters, AFP, AP, RIA Novosti_)\n",
      "\n",
      "Trở lại Thế giớiTrở lại Thế giới\n",
      "\n",
      "Copy link thành công\n",
      "\n",
      "×\n",
      "\n"
     ]
    }
   ],
   "source": [
    "from src.components.pull_content.news import NewsService\n",
    "from src.components.pull_content.type import ContentType\n",
    "from src.components.pull_content.news import NewsInput\n",
    "from src.settings.settings import load_settings\n",
    "\n",
    "settings = load_settings()\n",
    "\n",
    "news_service = NewsService()\n",
    "\n",
    "paper_file = news_service.process(\n",
    "    NewsInput(\n",
    "        news_url=\"https://vnexpress.net/luc-luong-ukraine-tai-kursk-co-nguy-co-bi-bao-vay-hoan-toan-4858329.html\",\n",
    "        type=ContentType.NEWS\n",
    "    )\n",
    ")\n",
    "print(paper_file.news_content)"
   ]
  },
  {
   "cell_type": "code",
   "execution_count": null,
   "metadata": {},
   "outputs": [],
   "source": []
  }
 ],
 "metadata": {
  "kernelspec": {
   "display_name": "post-content-pilot",
   "language": "python",
   "name": "python3"
  },
  "language_info": {
   "codemirror_mode": {
    "name": "ipython",
    "version": 3
   },
   "file_extension": ".py",
   "mimetype": "text/x-python",
   "name": "python",
   "nbconvert_exporter": "python",
   "pygments_lexer": "ipython3",
   "version": "3.10.16"
  }
 },
 "nbformat": 4,
 "nbformat_minor": 2
}

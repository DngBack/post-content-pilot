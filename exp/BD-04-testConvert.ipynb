{
 "cells": [
  {
   "cell_type": "code",
   "execution_count": 2,
   "metadata": {},
   "outputs": [],
   "source": [
    "from src.components.convert2post import ConvertPostService\n",
    "from src.components.convert2post import ConvertPostInput"
   ]
  },
  {
   "cell_type": "code",
   "execution_count": 3,
   "metadata": {},
   "outputs": [],
   "source": [
    "from src.settings.settings import load_settings\n",
    "\n",
    "settings = load_settings() "
   ]
  },
  {
   "cell_type": "code",
   "execution_count": 4,
   "metadata": {},
   "outputs": [],
   "source": [
    "post_input = ConvertPostInput(\n",
    "    summary_content=\"\"\"\n",
    "    ### Key Points from \"MedVLM-R1: Incentivizing Medical Reasoning Capability of Vision-Language Models (VLMs) via Reinforcement Learning\"\n",
    "\n",
    "- **Objective**: Introduces **MedVLM-R1**, a medical Vision-Language Model (VLM) aimed at enhancing **transparency** and **trustworthiness** in medical image analysis by generating explicit natural language reasoning.\n",
    "\n",
    "- **Problem Addressed**: Existing VLMs typically provide final answers without revealing the reasoning process, which is crucial for clinician trust and regulatory approval.\n",
    "\n",
    "- **Methodology**: \n",
    "  - Utilizes **Reinforcement Learning** instead of **Supervised Fine-Tuning (SFT)** to encourage the model to develop human-interpretable reasoning paths.\n",
    "  - Operates without reasoning references, addressing overfitting issues common in SFT.\n",
    "\n",
    "- **Performance**:\n",
    "  - Achieved an accuracy increase from **55.11% to 78.22%** on MRI, CT, and X-ray benchmarks.\n",
    "  - Outperformed larger models trained on over **1 million samples** despite being trained on only **600 visual question answering samples**.\n",
    "\n",
    "- **Domain Generalization**: Demonstrates strong performance on out-of-distribution tasks, indicating robust adaptability.\n",
    "\n",
    "- **Significance**: MedVLM-R1 represents a significant advancement towards creating **trustworthy** and **interpretable AI** in clinical settings, merging medical image analysis with explicit reasoning capabilities.\n",
    "\n",
    "### Keywords\n",
    "- Medical reasoning\n",
    "- Reinforcement learning\n",
    "- Vision-Language Models (VLMs)\n",
    "\"\"\",\n",
    "tone= \"Professional\",\n",
    "target_platform=\"linkedin\"\n",
    ")"
   ]
  },
  {
   "cell_type": "code",
   "execution_count": 5,
   "metadata": {},
   "outputs": [],
   "source": [
    "post_convert = ConvertPostService(openai_settings=settings.openai)"
   ]
  },
  {
   "cell_type": "code",
   "execution_count": 6,
   "metadata": {},
   "outputs": [
    {
     "name": "stdout",
     "output_type": "stream",
     "text": [
      "🚀 Exciting advancements in medical AI! Introducing **MedVLM-R1**, a groundbreaking Vision-Language Model designed to enhance **transparency** and **trustworthiness** in medical image analysis. \n",
      "\n",
      "🔍 **Why it matters**: Traditional VLMs often provide answers without revealing the reasoning behind them, which can hinder clinician trust and regulatory approval. MedVLM-R1 addresses this by generating explicit natural language reasoning, ensuring that healthcare professionals can understand and trust AI-driven insights.\n",
      "\n",
      "🧠 **How it works**: By leveraging **Reinforcement Learning** instead of conventional Supervised Fine-Tuning, MedVLM-R1 develops human-interpretable reasoning paths without overfitting. This innovative approach has led to a remarkable accuracy increase from **55.11% to 78.22%** on MRI, CT, and X-ray benchmarks, outperforming larger models trained on vast datasets.\n",
      "\n",
      "🌟 **Key takeaway**: MedVLM-R1 not only excels in performance but also demonstrates robust adaptability on out-of-distribution tasks, marking a significant step towards creating **trustworthy** and **interpretable AI** in clinical settings.\n",
      "\n",
      "Join the conversation! How do you see AI transforming medical imaging in the future? Share your thoughts below! 👇 #MedicalAI #VisionLanguageModels #ReinforcementLearning #HealthcareInnovation\n"
     ]
    }
   ],
   "source": [
    "response = post_convert.process(inputs=post_input).post\n",
    "print(response)"
   ]
  },
  {
   "cell_type": "code",
   "execution_count": null,
   "metadata": {},
   "outputs": [],
   "source": []
  }
 ],
 "metadata": {
  "kernelspec": {
   "display_name": "post-content-pilot",
   "language": "python",
   "name": "python3"
  },
  "language_info": {
   "codemirror_mode": {
    "name": "ipython",
    "version": 3
   },
   "file_extension": ".py",
   "mimetype": "text/x-python",
   "name": "python",
   "nbconvert_exporter": "python",
   "pygments_lexer": "ipython3",
   "version": "3.10.16"
  }
 },
 "nbformat": 4,
 "nbformat_minor": 2
}

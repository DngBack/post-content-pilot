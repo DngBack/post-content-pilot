{
 "cells": [
  {
   "cell_type": "markdown",
   "metadata": {},
   "source": [
    "### Test OpenAI"
   ]
  },
  {
   "cell_type": "code",
   "execution_count": 1,
   "metadata": {},
   "outputs": [
    {
     "name": "stdout",
     "output_type": "stream",
     "text": [
      "response='The capital of France is Paris.'\n"
     ]
    }
   ],
   "source": [
    "from src.settings import openai_service\n",
    "from src.module import OpenAIInput\n",
    "from src.module import OpenAIService\n",
    "from src.settings.settings import load_settings\n",
    "\n",
    "settings = load_settings()\n",
    "\n",
    "openai_service = OpenAIService(settings=settings.openai)\n",
    "\n",
    "input_data = OpenAIInput(user_prompt=\"What is the capital of France?\", system_prompt=\"Context: The capital of France is Paris.\")\n",
    "\n",
    "response = openai_service.process(inputs=input_data)\n",
    "\n",
    "print(response)"
   ]
  }
 ],
 "metadata": {
  "kernelspec": {
   "display_name": "post-content-pilot",
   "language": "python",
   "name": "python3"
  },
  "language_info": {
   "codemirror_mode": {
    "name": "ipython",
    "version": 3
   },
   "file_extension": ".py",
   "mimetype": "text/x-python",
   "name": "python",
   "nbconvert_exporter": "python",
   "pygments_lexer": "ipython3",
   "version": "3.10.16"
  }
 },
 "nbformat": 4,
 "nbformat_minor": 2
}
